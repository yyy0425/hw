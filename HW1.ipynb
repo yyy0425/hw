{
 "cells": [
  {
   "cell_type": "markdown",
   "metadata": {},
   "source": [
    "# Homework 1\n"
   ]
  },
  {
   "cell_type": "markdown",
   "metadata": {},
   "source": [
    "(a) Without using Numpy, implement a function `convert_to_signed` to take a 16-bit pattern as an input and output a signed integer.\n",
    "For example, for `0101110111101111` should give 24047 while `1101110111101111` should give -8721"
   ]
  },
  {
   "cell_type": "code",
   "execution_count": null,
   "metadata": {},
   "outputs": [],
   "source": [
    "x='0101110111101111'\n",
    "def convert_to_signed(x):\n"
   ]
  },
  {
   "cell_type": "markdown",
   "metadata": {},
   "source": [
    "(b) Implement a function `machineEpsilon` to determine the machine Epsilon for a given type `func` (default flow). Test your function with `int`, `float` and `complex`. "
   ]
  },
  {
   "cell_type": "code",
   "execution_count": null,
   "metadata": {},
   "outputs": [],
   "source": [
    "def machineEpsilon(func=float):\n"
   ]
  },
  {
   "cell_type": "markdown",
   "metadata": {},
   "source": [
    "(c) Find the numerical deriviative of the function $f(x) = e^x$ at $x = 0$ using the forward differentiation \n",
    "$$\n",
    "f'(x)\\approx \\frac{u(x+h)-u(x)}{h}\n",
    "$$\n",
    "Plot the error as a function of $h=1/2^n$. \n",
    "When does the rounding errors become relavent? "
   ]
  },
  {
   "cell_type": "code",
   "execution_count": null,
   "metadata": {},
   "outputs": [],
   "source": [
    "def ForwardDifferences(f, x, h):"
   ]
  }
 ],
 "metadata": {
  "kernelspec": {
   "display_name": "pytorch",
   "language": "python",
   "name": "python3"
  },
  "language_info": {
   "codemirror_mode": {
    "name": "ipython",
    "version": 3
   },
   "file_extension": ".py",
   "mimetype": "text/x-python",
   "name": "python",
   "nbconvert_exporter": "python",
   "pygments_lexer": "ipython3",
   "version": "3.10.13"
  }
 },
 "nbformat": 4,
 "nbformat_minor": 2
}
